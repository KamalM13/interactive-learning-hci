{
 "cells": [
  {
   "cell_type": "code",
   "execution_count": 1,
   "id": "06dd1885",
   "metadata": {},
   "outputs": [
    {
     "name": "stdout",
     "output_type": "stream",
     "text": [
      "Requirement already satisfied: dollarpy in c:\\users\\pcv\\appdata\\local\\packages\\pythonsoftwarefoundation.python.3.11_qbz5n2kfra8p0\\localcache\\local-packages\\python311\\site-packages (0.1.1)\n",
      "Note: you may need to restart the kernel to use updated packages.\n"
     ]
    },
    {
     "name": "stderr",
     "output_type": "stream",
     "text": [
      "\n",
      "[notice] A new release of pip is available: 24.0 -> 24.3.1\n",
      "[notice] To update, run: C:\\Users\\pcv\\AppData\\Local\\Microsoft\\WindowsApps\\PythonSoftwareFoundation.Python.3.11_qbz5n2kfra8p0\\python.exe -m pip install --upgrade pip\n"
     ]
    },
    {
     "name": "stdout",
     "output_type": "stream",
     "text": [
      "Requirement already satisfied: mediapipe in c:\\users\\pcv\\appdata\\local\\packages\\pythonsoftwarefoundation.python.3.11_qbz5n2kfra8p0\\localcache\\local-packages\\python311\\site-packages (0.10.14)\n",
      "Requirement already satisfied: absl-py in c:\\users\\pcv\\appdata\\local\\packages\\pythonsoftwarefoundation.python.3.11_qbz5n2kfra8p0\\localcache\\local-packages\\python311\\site-packages (from mediapipe) (2.1.0)\n",
      "Requirement already satisfied: attrs>=19.1.0 in c:\\users\\pcv\\appdata\\local\\packages\\pythonsoftwarefoundation.python.3.11_qbz5n2kfra8p0\\localcache\\local-packages\\python311\\site-packages (from mediapipe) (23.2.0)\n",
      "Requirement already satisfied: flatbuffers>=2.0 in c:\\users\\pcv\\appdata\\local\\packages\\pythonsoftwarefoundation.python.3.11_qbz5n2kfra8p0\\localcache\\local-packages\\python311\\site-packages (from mediapipe) (24.3.25)\n",
      "Requirement already satisfied: jax in c:\\users\\pcv\\appdata\\local\\packages\\pythonsoftwarefoundation.python.3.11_qbz5n2kfra8p0\\localcache\\local-packages\\python311\\site-packages (from mediapipe) (0.4.35)\n",
      "Requirement already satisfied: jaxlib in c:\\users\\pcv\\appdata\\local\\packages\\pythonsoftwarefoundation.python.3.11_qbz5n2kfra8p0\\localcache\\local-packages\\python311\\site-packages (from mediapipe) (0.4.35)\n",
      "Requirement already satisfied: matplotlib in c:\\users\\pcv\\appdata\\local\\packages\\pythonsoftwarefoundation.python.3.11_qbz5n2kfra8p0\\localcache\\local-packages\\python311\\site-packages (from mediapipe) (3.9.0)\n",
      "Requirement already satisfied: numpy in c:\\users\\pcv\\appdata\\local\\packages\\pythonsoftwarefoundation.python.3.11_qbz5n2kfra8p0\\localcache\\local-packages\\python311\\site-packages (from mediapipe) (1.26.4)\n",
      "Requirement already satisfied: opencv-contrib-python in c:\\users\\pcv\\appdata\\local\\packages\\pythonsoftwarefoundation.python.3.11_qbz5n2kfra8p0\\localcache\\local-packages\\python311\\site-packages (from mediapipe) (4.10.0.84)\n",
      "Requirement already satisfied: protobuf<5,>=4.25.3 in c:\\users\\pcv\\appdata\\local\\packages\\pythonsoftwarefoundation.python.3.11_qbz5n2kfra8p0\\localcache\\local-packages\\python311\\site-packages (from mediapipe) (4.25.3)\n",
      "Requirement already satisfied: sounddevice>=0.4.4 in c:\\users\\pcv\\appdata\\local\\packages\\pythonsoftwarefoundation.python.3.11_qbz5n2kfra8p0\\localcache\\local-packages\\python311\\site-packages (from mediapipe) (0.5.1)\n",
      "Requirement already satisfied: CFFI>=1.0 in c:\\users\\pcv\\appdata\\local\\packages\\pythonsoftwarefoundation.python.3.11_qbz5n2kfra8p0\\localcache\\local-packages\\python311\\site-packages (from sounddevice>=0.4.4->mediapipe) (1.17.1)\n",
      "Requirement already satisfied: ml-dtypes>=0.4.0 in c:\\users\\pcv\\appdata\\local\\packages\\pythonsoftwarefoundation.python.3.11_qbz5n2kfra8p0\\localcache\\local-packages\\python311\\site-packages (from jax->mediapipe) (0.5.0)\n",
      "Requirement already satisfied: opt-einsum in c:\\users\\pcv\\appdata\\local\\packages\\pythonsoftwarefoundation.python.3.11_qbz5n2kfra8p0\\localcache\\local-packages\\python311\\site-packages (from jax->mediapipe) (3.3.0)\n",
      "Requirement already satisfied: scipy>=1.10 in c:\\users\\pcv\\appdata\\local\\packages\\pythonsoftwarefoundation.python.3.11_qbz5n2kfra8p0\\localcache\\local-packages\\python311\\site-packages (from jax->mediapipe) (1.13.0)\n",
      "Requirement already satisfied: contourpy>=1.0.1 in c:\\users\\pcv\\appdata\\local\\packages\\pythonsoftwarefoundation.python.3.11_qbz5n2kfra8p0\\localcache\\local-packages\\python311\\site-packages (from matplotlib->mediapipe) (1.2.1)\n",
      "Requirement already satisfied: cycler>=0.10 in c:\\users\\pcv\\appdata\\local\\packages\\pythonsoftwarefoundation.python.3.11_qbz5n2kfra8p0\\localcache\\local-packages\\python311\\site-packages (from matplotlib->mediapipe) (0.12.1)\n",
      "Requirement already satisfied: fonttools>=4.22.0 in c:\\users\\pcv\\appdata\\local\\packages\\pythonsoftwarefoundation.python.3.11_qbz5n2kfra8p0\\localcache\\local-packages\\python311\\site-packages (from matplotlib->mediapipe) (4.51.0)\n",
      "Requirement already satisfied: kiwisolver>=1.3.1 in c:\\users\\pcv\\appdata\\local\\packages\\pythonsoftwarefoundation.python.3.11_qbz5n2kfra8p0\\localcache\\local-packages\\python311\\site-packages (from matplotlib->mediapipe) (1.4.5)\n",
      "Requirement already satisfied: packaging>=20.0 in c:\\users\\pcv\\appdata\\local\\packages\\pythonsoftwarefoundation.python.3.11_qbz5n2kfra8p0\\localcache\\local-packages\\python311\\site-packages (from matplotlib->mediapipe) (24.0)\n",
      "Requirement already satisfied: pillow>=8 in c:\\users\\pcv\\appdata\\local\\packages\\pythonsoftwarefoundation.python.3.11_qbz5n2kfra8p0\\localcache\\local-packages\\python311\\site-packages (from matplotlib->mediapipe) (10.3.0)\n",
      "Requirement already satisfied: pyparsing>=2.3.1 in c:\\users\\pcv\\appdata\\local\\packages\\pythonsoftwarefoundation.python.3.11_qbz5n2kfra8p0\\localcache\\local-packages\\python311\\site-packages (from matplotlib->mediapipe) (3.1.2)\n",
      "Requirement already satisfied: python-dateutil>=2.7 in c:\\users\\pcv\\appdata\\local\\packages\\pythonsoftwarefoundation.python.3.11_qbz5n2kfra8p0\\localcache\\local-packages\\python311\\site-packages (from matplotlib->mediapipe) (2.9.0.post0)\n",
      "Requirement already satisfied: pycparser in c:\\users\\pcv\\appdata\\local\\packages\\pythonsoftwarefoundation.python.3.11_qbz5n2kfra8p0\\localcache\\local-packages\\python311\\site-packages (from CFFI>=1.0->sounddevice>=0.4.4->mediapipe) (2.22)\n",
      "Requirement already satisfied: six>=1.5 in c:\\users\\pcv\\appdata\\local\\packages\\pythonsoftwarefoundation.python.3.11_qbz5n2kfra8p0\\localcache\\local-packages\\python311\\site-packages (from python-dateutil>=2.7->matplotlib->mediapipe) (1.16.0)\n",
      "Note: you may need to restart the kernel to use updated packages.\n"
     ]
    },
    {
     "name": "stderr",
     "output_type": "stream",
     "text": [
      "\n",
      "[notice] A new release of pip is available: 24.0 -> 24.3.1\n",
      "[notice] To update, run: C:\\Users\\pcv\\AppData\\Local\\Microsoft\\WindowsApps\\PythonSoftwareFoundation.Python.3.11_qbz5n2kfra8p0\\python.exe -m pip install --upgrade pip\n"
     ]
    }
   ],
   "source": [
    "%pip install dollarpy\n",
    "%pip install mediapipe"
   ]
  },
  {
   "cell_type": "code",
   "execution_count": null,
   "id": "e32d2451",
   "metadata": {},
   "outputs": [
    {
     "name": "stdout",
     "output_type": "stream",
     "text": [
      "^C\n",
      "Note: you may need to restart the kernel to use updated packages.\n",
      "Requirement already satisfied: numpy<2 in c:\\users\\pcv\\appdata\\local\\packages\\pythonsoftwarefoundation.python.3.11_qbz5n2kfra8p0\\localcache\\local-packages\\python311\\site-packages (1.26.4)Note: you may need to restart the kernel to use updated packages.\n"
     ]
    },
    {
     "name": "stderr",
     "output_type": "stream",
     "text": [
      "\n",
      "[notice] A new release of pip is available: 24.0 -> 24.3.1\n",
      "[notice] To update, run: C:\\Users\\pcv\\AppData\\Local\\Microsoft\\WindowsApps\\PythonSoftwareFoundation.Python.3.11_qbz5n2kfra8p0\\python.exe -m pip install --upgrade pip\n"
     ]
    },
    {
     "name": "stdout",
     "output_type": "stream",
     "text": [
      "\n"
     ]
    }
   ],
   "source": [
    "'''%pip uninstall numpy\n",
    "%pip install \"numpy<2\"'''"
   ]
  },
  {
   "cell_type": "code",
   "execution_count": 2,
   "id": "7f05c5bb",
   "metadata": {},
   "outputs": [],
   "source": [
    "import mediapipe as mp # Import mediapipe\n",
    "import cv2 # Import opencv\n",
    "from dollarpy import Recognizer, Template, Point\n",
    "\n",
    "mp_drawing = mp.solutions.drawing_utils # Drawing helpers\n",
    "mp_drawing_styles = mp.solutions.drawing_styles\n",
    "\n",
    "mp_holistic = mp.solutions.holistic # Mediapipe Solutions"
   ]
  },
  {
   "cell_type": "code",
   "execution_count": 3,
   "id": "3a95a8a6",
   "metadata": {},
   "outputs": [],
   "source": [
    "\"\"\"def getPoints(videoURL,label):\n",
    "    cap = cv2.VideoCapture(videoURL)#web cam =0 , else enter filename\n",
    "    # Initiate holistic model\n",
    "    with mp_holistic.Holistic(min_detection_confidence=0.5, min_tracking_confidence=0.5) as holistic:\n",
    "        points = []\n",
    "        hands = []   \n",
    "        while cap.isOpened():\n",
    "            ret, frame = cap.read()\n",
    "\n",
    "            # Recolor Feed\n",
    "            if ret==True:\n",
    "\n",
    "                image = cv2.cvtColor(frame, cv2.COLOR_BGR2RGB)\n",
    "                image.flags.writeable = False        \n",
    "\n",
    "                # Make Detections\n",
    "                results = holistic.process(image)\n",
    "                # print(results.face_landmarks)\n",
    "\n",
    "\n",
    "                # Recolor image back to BGR for rendering\n",
    "                image.flags.writeable = True   \n",
    "                image = cv2.cvtColor(image, cv2.COLOR_RGB2BGR)\n",
    "\n",
    "                # Drawing on Frame (You can remove it)\n",
    "                # 2. Right hand\n",
    "                mp_drawing.draw_landmarks(image, results.right_hand_landmarks, mp_holistic.HAND_CONNECTIONS)\n",
    "\n",
    "                # 3. Left Hand\n",
    "                mp_drawing.draw_landmarks(image, results.left_hand_landmarks, mp_holistic.HAND_CONNECTIONS)\n",
    "\n",
    "                # 4. Pose Detections\n",
    "                mp_drawing.draw_landmarks(image, results.pose_landmarks, mp_holistic.POSE_CONNECTIONS,landmark_drawing_spec=mp_drawing_styles.get_default_pose_landmarks_style())\n",
    "                # Export coordinates\n",
    "\n",
    "                try:\n",
    "\n",
    "                    if results.left_hand_landmarks:\n",
    "                        for landmark in results.left_hand_landmarks.landmark:\n",
    "                            hands.append((landmark.x, landmark.y,landmark.z, label))\n",
    "                    if results.right_hand_landmarks:\n",
    "                        for landmark in results.right_hand_landmarks.landmark:\n",
    "                            hands.append((landmark.x, landmark.y,landmark.z, label))\n",
    "\n",
    "                except:\n",
    "                    pass\n",
    "\n",
    "                cv2.imshow(label, image)\n",
    "            else :\n",
    "                cap.release()\n",
    "                cv2.destroyAllWindows()\n",
    "                cv2.waitKey(100)\n",
    "                break\n",
    "\n",
    "            if cv2.waitKey(10) & 0xFF == ord('q'):\n",
    "                cap.release()\n",
    "                cv2.destroyAllWindows()\n",
    "                cv2.waitKey(100)\n",
    "                break\n",
    "\n",
    "    cap.release()\n",
    "    cv2.destroyAllWindows()\n",
    "    points = hands\n",
    "    print(label)\n",
    "    return points\"\"\"\n",
    "class Point:\n",
    "    def __init__(self, x, y, z, stroke_id):\n",
    "        self.x = x\n",
    "        self.y = y\n",
    "        self.z = z\n",
    "        self.stroke_id = stroke_id\n",
    "\n",
    "def getPoints(videoURL, label):\n",
    "    cap = cv2.VideoCapture(videoURL)\n",
    "    with mp_holistic.Holistic(min_detection_confidence=0.5, min_tracking_confidence=0.5) as holistic:\n",
    "        points = []\n",
    "\n",
    "        while cap.isOpened():\n",
    "            ret, frame = cap.read()\n",
    "            if not ret:\n",
    "                break\n",
    "\n",
    "            # Recolor Feed\n",
    "            image = cv2.cvtColor(frame, cv2.COLOR_BGR2RGB)\n",
    "            image.flags.writeable = False\n",
    "\n",
    "            # Make Detections\n",
    "            results = holistic.process(image)\n",
    "\n",
    "            # Recolor image back to BGR for rendering\n",
    "            image.flags.writeable = True\n",
    "            image = cv2.cvtColor(image, cv2.COLOR_RGB2BGR)\n",
    "            \n",
    "            # 2. Right hand\n",
    "            mp_drawing.draw_landmarks(image, results.right_hand_landmarks, mp_holistic.HAND_CONNECTIONS)\n",
    "\n",
    "            # 3. Left Hand\n",
    "            mp_drawing.draw_landmarks(image, results.left_hand_landmarks, mp_holistic.HAND_CONNECTIONS)\n",
    "\n",
    "\n",
    "            # Export coordinates with a stroke_id\n",
    "            if results.left_hand_landmarks:\n",
    "                for landmark in results.left_hand_landmarks.landmark:\n",
    "                    points.append(Point(landmark.x, landmark.y, landmark.z, stroke_id=1))\n",
    "            if results.right_hand_landmarks:\n",
    "                for landmark in results.right_hand_landmarks.landmark:\n",
    "                    points.append(Point(landmark.x, landmark.y, landmark.z, stroke_id=2)) \n",
    "\n",
    "            cv2.imshow(label, image)\n",
    "            if cv2.waitKey(10) & 0xFF == ord('q'):\n",
    "                break\n",
    "\n",
    "    cap.release()\n",
    "    cv2.destroyAllWindows()\n",
    "    print(label)\n",
    "    return points"
   ]
  },
  {
   "cell_type": "code",
   "execution_count": 4,
   "id": "8540eb45",
   "metadata": {},
   "outputs": [
    {
     "name": "stderr",
     "output_type": "stream",
     "text": [
      "C:\\Users\\pcv\\AppData\\Local\\Packages\\PythonSoftwareFoundation.Python.3.11_qbz5n2kfra8p0\\LocalCache\\local-packages\\Python311\\site-packages\\google\\protobuf\\symbol_database.py:55: UserWarning: SymbolDatabase.GetPrototype() is deprecated. Please use message_factory.GetMessageClass() instead. SymbolDatabase.GetPrototype() will be removed soon.\n",
      "  warnings.warn('SymbolDatabase.GetPrototype() is deprecated. Please '\n"
     ]
    },
    {
     "name": "stdout",
     "output_type": "stream",
     "text": [
      "Correct ok Execution\n",
      "Correct ok Execution\n",
      "Correct ok Execution\n",
      "Correct ok Execution\n",
      "Correct ok Execution\n",
      "Correct ok Execution\n",
      "Correct ok Execution\n",
      "Correct ok Execution\n"
     ]
    }
   ],
   "source": [
    "#ok\n",
    "'''\n",
    "vidPath = \"F:/Uni/4th year/Hci/hands video/ok\"\n",
    "for i in range(1, 9):\n",
    "    vid = f\"{vidPath}/ok-{i}.mp4\" \n",
    "    points = getPoints(vid,\"Correct ok Execution\")\n",
    "    tmpl_2 = Template('ok', points)\n",
    "    templates.append(tmpl_2)\n",
    "'''\n",
    "templates = []\n",
    "vidPath = \"F:/Uni/4th year/Hci/hands video/ok\"\n",
    "for i in range(1, 9):\n",
    "    vid = f\"{vidPath}/ok-{i}.mp4\"\n",
    "    \n",
    "    # Get points for this specific video, resetting with each iteration\n",
    "    points = getPoints(vid, \"Correct ok Execution\")  \n",
    "    \n",
    "    # Only create a Template if points were successfully retrieved\n",
    "    if points:\n",
    "        tmpl_2 = Template('ok', points)\n",
    "        templates.append(tmpl_2)\n",
    "    else:\n",
    "        print(f\"No points detected for video {i}.\")"
   ]
  },
  {
   "cell_type": "code",
   "execution_count": 5,
   "id": "9786dddf",
   "metadata": {},
   "outputs": [
    {
     "name": "stdout",
     "output_type": "stream",
     "text": [
      "Correct stop Execution\n",
      "Correct stop Execution\n",
      "Correct stop Execution\n",
      "Correct stop Execution\n",
      "Correct stop Execution\n"
     ]
    }
   ],
   "source": [
    "#stop\n",
    "'''\n",
    "vidPath = \"F:/Uni/4th year/Hci/hands video/stop\"\n",
    "for i in range(1, 6):\n",
    "    vid = f\"{vidPath}/stop-{i}.mp4\" \n",
    "    points = getPoints(vid,\"Correct stop Execution\")\n",
    "    tmpl_2 = Template('stop', points)\n",
    "    templates.append(tmpl_2)\n",
    "    '''\n",
    "vidPath = \"F:/Uni/4th year/Hci/hands video/stop\"\n",
    "for i in range(1, 6):\n",
    "    vid = f\"{vidPath}/stop-{i}.mp4\"\n",
    "    \n",
    "    # Get points for this specific video, resetting with each iteration\n",
    "    points = getPoints(vid, \"Correct stop Execution\")  \n",
    "    \n",
    "    # Only create a Template if points were successfully retrieved\n",
    "    if points:\n",
    "        tmpl_2 = Template('stop', points)\n",
    "        templates.append(tmpl_2)\n",
    "    else:\n",
    "        print(f\"No points detected for video {i}.\")"
   ]
  },
  {
   "cell_type": "code",
   "execution_count": 7,
   "id": "1f721db5",
   "metadata": {},
   "outputs": [
    {
     "name": "stdout",
     "output_type": "stream",
     "text": [
      "Correct next Execution\n",
      "Correct next Execution\n",
      "Correct next Execution\n",
      "Correct next Execution\n",
      "Correct next Execution\n",
      "Correct next Execution\n"
     ]
    }
   ],
   "source": [
    "'''vidPath = \"F:/Uni/4th year/Hci/hands video/next\"\n",
    "for i in range(1, 7):\n",
    "    vid = f\"{vidPath}/next-{i}.mp4\" \n",
    "    points = getPoints(vid,\"Correct next Execution\")\n",
    "    tmpl_2 = Template('next', points)\n",
    "    templates.append(tmpl_2) '''\n",
    "vidPath = \"F:/Uni/4th year/Hci/hands video/next\"\n",
    "for i in range(1, 7):\n",
    "    vid = f\"{vidPath}/next-{i}.mp4\"\n",
    "    \n",
    "    # Get points for this specific video, resetting with each iteration\n",
    "    points = getPoints(vid, \"Correct next Execution\")  \n",
    "    \n",
    "    # Only create a Template if points were successfully retrieved\n",
    "    if points:\n",
    "        tmpl_2 = Template('next', points)\n",
    "        templates.append(tmpl_2)\n",
    "    else:\n",
    "        print(f\"No points detected for video {i}.\")"
   ]
  },
  {
   "cell_type": "code",
   "execution_count": 8,
   "id": "b3fab5fd",
   "metadata": {},
   "outputs": [
    {
     "name": "stdout",
     "output_type": "stream",
     "text": [
      "Correct previous Execution\n",
      "Correct previous Execution\n",
      "Correct previous Execution\n",
      "Correct previous Execution\n",
      "Correct previous Execution\n",
      "Correct previous Execution\n"
     ]
    }
   ],
   "source": [
    "#previous\n",
    "'''vidPath = \"F:/Uni/4th year/Hci/hands video/previous\"\n",
    "for i in range(1, 7):\n",
    "    vid = f\"{vidPath}/previous-{i}.mp4\" \n",
    "    points = getPoints(vid,\"Correct previous Execution\")\n",
    "    tmpl_2 = Template('previous', points)\n",
    "    templates.append(tmpl_2) '''\n",
    "vidPath = \"F:/Uni/4th year/Hci/hands video/previous\"\n",
    "for i in range(1, 7):\n",
    "    vid = f\"{vidPath}/previous-{i}.mp4\"\n",
    "    \n",
    "    # Get points for this specific video, resetting with each iteration\n",
    "    points = getPoints(vid, \"Correct previous Execution\")  \n",
    "    \n",
    "    # Only create a Template if points were successfully retrieved\n",
    "    if points:\n",
    "        tmpl_2 = Template('previous', points)\n",
    "        templates.append(tmpl_2)\n",
    "    else:\n",
    "        print(f\"No points detected for video {i}.\")"
   ]
  },
  {
   "cell_type": "code",
   "execution_count": 9,
   "id": "ffe10a98",
   "metadata": {},
   "outputs": [
    {
     "name": "stdout",
     "output_type": "stream",
     "text": [
      "Test Gesture\n",
      "Recognition Result: ok\n"
     ]
    }
   ],
   "source": [
    "vidPath = \"F:/Uni/4th year/Hci/hands video/test\"\n",
    "if templates:\n",
    "    recognizer = Recognizer(templates)\n",
    "    \n",
    "    # Test recognizer with a sample video\n",
    "    test_vid = f\"{vidPath}/ok.mp4\"\n",
    "    test_points = getPoints(test_vid, \"Test Gesture\")\n",
    "    \n",
    "    if test_points:\n",
    "        try:\n",
    "            result = recognizer.recognize(test_points)\n",
    "            print(\"Recognition Result:\", result[0])\n",
    "        except AttributeError as e:\n",
    "            print(\"Error:\", e)\n",
    "else:\n",
    "    print(\"No templates were created, please check video files.\")"
   ]
  },
  {
   "cell_type": "code",
   "execution_count": 109,
   "id": "f67f338f",
   "metadata": {},
   "outputs": [
    {
     "name": "stdout",
     "output_type": "stream",
     "text": [
      "('ok', 0.7117888604834206)\n"
     ]
    }
   ],
   "source": [
    "print(result)"
   ]
  },
  {
   "cell_type": "code",
   "execution_count": 10,
   "id": "0bca825c",
   "metadata": {},
   "outputs": [],
   "source": [
    "import pickle\n",
    "\n",
    "# After training and creating the templates list\n",
    "with open(\"gesture_templates.pkl\", \"wb\") as f:\n",
    "    pickle.dump(templates, f)"
   ]
  }
 ],
 "metadata": {
  "kernelspec": {
   "display_name": "Python 3",
   "language": "python",
   "name": "python3"
  },
  "language_info": {
   "codemirror_mode": {
    "name": "ipython",
    "version": 3
   },
   "file_extension": ".py",
   "mimetype": "text/x-python",
   "name": "python",
   "nbconvert_exporter": "python",
   "pygments_lexer": "ipython3",
   "version": "3.11.9"
  }
 },
 "nbformat": 4,
 "nbformat_minor": 5
}
